{
 "cells": [
  {
   "cell_type": "code",
   "execution_count": 5,
   "metadata": {},
   "outputs": [],
   "source": [
    "from visualize.hindsight_improvability import get_predictions\n",
    "from eval import get_preds_earlyexiting\n",
    "\n",
    "import argparse\n",
    "from pathlib import Path\n",
    "\n",
    "import os\n",
    "\n",
    "import torch"
   ]
  },
  {
   "cell_type": "code",
   "execution_count": 6,
   "metadata": {},
   "outputs": [
    {
     "data": {
      "text/plain": [
       "False"
      ]
     },
     "execution_count": 6,
     "metadata": {},
     "output_type": "execute_result"
    }
   ],
   "source": [
    "torch.cuda.is_available()"
   ]
  },
  {
   "cell_type": "code",
   "execution_count": 2,
   "metadata": {},
   "outputs": [],
   "source": [
    "os.environ['CIFAR100_PATH'] = \"/home/mjazbec/poe/Zero-Time-Waste/ztw_rewrite/data/cifar100\""
   ]
  },
  {
   "cell_type": "code",
   "execution_count": 3,
   "metadata": {},
   "outputs": [],
   "source": [
    "parser = argparse.ArgumentParser()\n",
    "ARGS = parser.parse_args(args=[])\n",
    "ARGS.runs_dir = Path.cwd() / 'runs'\n",
    "ARGS.exp_names = [\"cifar100_resnet50_IHYWUAYB\", \"cifar100_ztw_cascading_5377D53A\", \"cifar100_ztw_ensembling_SOVJE4OA\"]\n",
    "ARGS.exp_ids = [0]\n",
    "ARGS.display_names = None\n",
    "ARGS.use_wandb = False\n",
    "ARGS.output_dir = Path.cwd() / 'figures'\n",
    "ARGS.output_name = 'hi'"
   ]
  },
  {
   "cell_type": "code",
   "execution_count": 7,
   "metadata": {},
   "outputs": [
    {
     "name": "stdout",
     "output_type": "stream",
     "text": [
      "Calculating hindsight improvabilities for: cifar100_resnet50_IHYWUAYB_0\n",
      "Calculating hindsight improvabilities for: cifar100_ztw_cascading_5377D53A_0\n",
      "Files already downloaded and verified\n",
      "Files already downloaded and verified\n",
      "Files already downloaded and verified\n"
     ]
    }
   ],
   "source": [
    "for exp_name in ARGS.exp_names:\n",
    "    for exp_id in ARGS.exp_ids:\n",
    "        run_name = f'{exp_name}_{exp_id}'\n",
    "        print(f'Calculating hindsight improvabilities for: {run_name}')\n",
    "        ee_preds, labels = get_predictions(ARGS, run_name)\n",
    "        if ee_preds is not None:\n",
    "            print(exp_name)\n",
    "            print(ee_preds.shape, labels.shape)"
   ]
  },
  {
   "cell_type": "code",
   "execution_count": null,
   "metadata": {},
   "outputs": [],
   "source": []
  }
 ],
 "metadata": {
  "kernelspec": {
   "display_name": "ztw_env",
   "language": "python",
   "name": "python3"
  },
  "language_info": {
   "codemirror_mode": {
    "name": "ipython",
    "version": 3
   },
   "file_extension": ".py",
   "mimetype": "text/x-python",
   "name": "python",
   "nbconvert_exporter": "python",
   "pygments_lexer": "ipython3",
   "version": "3.8.16"
  },
  "orig_nbformat": 4
 },
 "nbformat": 4,
 "nbformat_minor": 2
}
